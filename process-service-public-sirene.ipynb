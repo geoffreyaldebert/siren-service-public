{
 "cells": [
  {
   "cell_type": "code",
   "execution_count": 1,
   "id": "3bd7b708",
   "metadata": {},
   "outputs": [],
   "source": [
    "import pandas as pd"
   ]
  },
  {
   "cell_type": "markdown",
   "id": "cdfafe58",
   "metadata": {},
   "source": [
    "A faire avant d'exécuter : télécharger le fichier StockUniteLegale_utf8.zip sur [la page suivante de](https://www.data.gouv.fr/fr/datasets/base-sirene-des-entreprises-et-de-leurs-etablissements-siren-siret/) data.gouv.fr"
   ]
  },
  {
   "cell_type": "code",
   "execution_count": 2,
   "id": "b728781b",
   "metadata": {},
   "outputs": [],
   "source": [
    "df = pd.read_csv(\"StockUniteLegale_utf8.zip\", dtype=str, compression=\"zip\")"
   ]
  },
  {
   "cell_type": "code",
   "execution_count": 6,
   "id": "4d76cbbf",
   "metadata": {},
   "outputs": [],
   "source": [
    "df = df[[\"denominationUniteLegale\", \"siren\", \"categorieJuridiqueUniteLegale\"]]"
   ]
  },
  {
   "cell_type": "code",
   "execution_count": 25,
   "id": "a8268d5d",
   "metadata": {},
   "outputs": [
    {
     "name": "stderr",
     "output_type": "stream",
     "text": [
      "/var/folders/cg/b2_z5vjn52x7nyrtvtmwqsqh0000gp/T/ipykernel_73855/3020591959.py:1: SettingWithCopyWarning: \n",
      "A value is trying to be set on a copy of a slice from a DataFrame.\n",
      "Try using .loc[row_indexer,col_indexer] = value instead\n",
      "\n",
      "See the caveats in the documentation: https://pandas.pydata.org/pandas-docs/stable/user_guide/indexing.html#returning-a-view-versus-a-copy\n",
      "  df[\"sp\"] = df[\"categorieJuridiqueUniteLegale\"].apply(lambda x: True if x in [\"3210\", \"3110\"] else True if str(x)[0] == \"4\" else True if str(x)[0] == \"7\" else False)\n"
     ]
    }
   ],
   "source": [
    "df[\"sp\"] = df[\"categorieJuridiqueUniteLegale\"].apply(lambda x: True if x in [\"3210\", \"3110\"] else True if str(x)[0] == \"4\" else True if str(x)[0] == \"7\" else False)"
   ]
  },
  {
   "cell_type": "code",
   "execution_count": 26,
   "id": "4e7c29f0",
   "metadata": {},
   "outputs": [],
   "source": [
    "df2 = df[df[\"sp\"] == True]"
   ]
  },
  {
   "cell_type": "code",
   "execution_count": 47,
   "id": "064e0734",
   "metadata": {},
   "outputs": [
    {
     "name": "stderr",
     "output_type": "stream",
     "text": [
      "/var/folders/cg/b2_z5vjn52x7nyrtvtmwqsqh0000gp/T/ipykernel_73855/751456058.py:1: SettingWithCopyWarning: \n",
      "A value is trying to be set on a copy of a slice from a DataFrame.\n",
      "Try using .loc[row_indexer,col_indexer] = value instead\n",
      "\n",
      "See the caveats in the documentation: https://pandas.pydata.org/pandas-docs/stable/user_guide/indexing.html#returning-a-view-versus-a-copy\n",
      "  df2[\"categorie_juridique_niveau_3\"] = df[\"categorieJuridiqueUniteLegale\"]\n",
      "/var/folders/cg/b2_z5vjn52x7nyrtvtmwqsqh0000gp/T/ipykernel_73855/751456058.py:2: SettingWithCopyWarning: \n",
      "A value is trying to be set on a copy of a slice from a DataFrame.\n",
      "Try using .loc[row_indexer,col_indexer] = value instead\n",
      "\n",
      "See the caveats in the documentation: https://pandas.pydata.org/pandas-docs/stable/user_guide/indexing.html#returning-a-view-versus-a-copy\n",
      "  df2[\"categorie_juridique_niveau_2\"] = df[\"categorieJuridiqueUniteLegale\"].str[:2]\n",
      "/var/folders/cg/b2_z5vjn52x7nyrtvtmwqsqh0000gp/T/ipykernel_73855/751456058.py:3: SettingWithCopyWarning: \n",
      "A value is trying to be set on a copy of a slice from a DataFrame.\n",
      "Try using .loc[row_indexer,col_indexer] = value instead\n",
      "\n",
      "See the caveats in the documentation: https://pandas.pydata.org/pandas-docs/stable/user_guide/indexing.html#returning-a-view-versus-a-copy\n",
      "  df2[\"categorie_juridique_niveau_1\"] = df[\"categorieJuridiqueUniteLegale\"].str[0]\n"
     ]
    }
   ],
   "source": [
    "df2[\"categorie_juridique_niveau_3\"] = df[\"categorieJuridiqueUniteLegale\"]\n",
    "df2[\"categorie_juridique_niveau_2\"] = df[\"categorieJuridiqueUniteLegale\"].str[:2]\n",
    "df2[\"categorie_juridique_niveau_1\"] = df[\"categorieJuridiqueUniteLegale\"].str[0]"
   ]
  },
  {
   "cell_type": "markdown",
   "id": "cd5f76ea",
   "metadata": {},
   "source": [
    "Les fichiers des categories juridiques sur sont sur [le site de l'insee à cette adresse](https://www.insee.fr/fr/information/2028129)"
   ]
  },
  {
   "cell_type": "code",
   "execution_count": 60,
   "id": "757b35c6",
   "metadata": {},
   "outputs": [],
   "source": [
    "nj1 = pd.read_excel(\"https://www.insee.fr/fr/statistiques/fichier/2028129/cj_septembre_2022.xls\", header=3,dtype=str)"
   ]
  },
  {
   "cell_type": "code",
   "execution_count": 61,
   "id": "5ff0c914",
   "metadata": {},
   "outputs": [],
   "source": [
    "nj2 = pd.read_excel(\"https://www.insee.fr/fr/statistiques/fichier/2028129/cj_septembre_2022.xls\", header=3, dtype=str, sheet_name=\"Niveau II\")"
   ]
  },
  {
   "cell_type": "code",
   "execution_count": 62,
   "id": "c064ee89",
   "metadata": {},
   "outputs": [],
   "source": [
    "nj3 = pd.read_excel(\"https://www.insee.fr/fr/statistiques/fichier/2028129/cj_septembre_2022.xls\", dtype=str, header=3, sheet_name=\"Niveau III\")"
   ]
  },
  {
   "cell_type": "code",
   "execution_count": 63,
   "id": "c5a99528",
   "metadata": {},
   "outputs": [],
   "source": [
    "nj1 = nj1.rename(columns={\"Code\": \"categorie_juridique_niveau_1\", \"Libellé\": \"libelle_categorie_juridique_niveau_1\"})"
   ]
  },
  {
   "cell_type": "code",
   "execution_count": 64,
   "id": "ba34bc35",
   "metadata": {},
   "outputs": [],
   "source": [
    "nj2 = nj2.rename(columns={\"Code\": \"categorie_juridique_niveau_2\", \"Libellé\": \"libelle_categorie_juridique_niveau_2\"})"
   ]
  },
  {
   "cell_type": "code",
   "execution_count": 65,
   "id": "55a79a03",
   "metadata": {},
   "outputs": [],
   "source": [
    "nj3 = nj3.rename(columns={\"Code\": \"categorie_juridique_niveau_3\", \"Libellé\": \"libelle_categorie_juridique_niveau_3\"})"
   ]
  },
  {
   "cell_type": "code",
   "execution_count": 66,
   "id": "6f344352",
   "metadata": {},
   "outputs": [],
   "source": [
    "df2 = pd.merge(df2,nj1,on=\"categorie_juridique_niveau_1\",how=\"left\")\n",
    "df2 = pd.merge(df2,nj2,on=\"categorie_juridique_niveau_2\",how=\"left\")\n",
    "df2 = pd.merge(df2,nj3,on=\"categorie_juridique_niveau_3\",how=\"left\")"
   ]
  },
  {
   "cell_type": "code",
   "execution_count": 68,
   "id": "c4228c72",
   "metadata": {},
   "outputs": [],
   "source": [
    "df2 = df2[\n",
    "    [\n",
    "        \"denominationUniteLegale\",\n",
    "        \"siren\",\n",
    "        \"categorie_juridique_niveau_1\",\n",
    "        \"libelle_categorie_juridique_niveau_1\",\n",
    "        \"categorie_juridique_niveau_2\",\n",
    "        \"libelle_categorie_juridique_niveau_2\",\n",
    "        \"categorie_juridique_niveau_3\",\n",
    "        \"libelle_categorie_juridique_niveau_3\",\n",
    "    ]\n",
    "]"
   ]
  },
  {
   "cell_type": "code",
   "execution_count": 73,
   "id": "618daf1c",
   "metadata": {},
   "outputs": [],
   "source": [
    "df2 = df2.rename(columns={\"denominationUniteLegale\": \"denomination_unite_legale\"})"
   ]
  },
  {
   "cell_type": "code",
   "execution_count": 74,
   "id": "67d6f743",
   "metadata": {},
   "outputs": [
    {
     "data": {
      "text/html": [
       "<div>\n",
       "<style scoped>\n",
       "    .dataframe tbody tr th:only-of-type {\n",
       "        vertical-align: middle;\n",
       "    }\n",
       "\n",
       "    .dataframe tbody tr th {\n",
       "        vertical-align: top;\n",
       "    }\n",
       "\n",
       "    .dataframe thead th {\n",
       "        text-align: right;\n",
       "    }\n",
       "</style>\n",
       "<table border=\"1\" class=\"dataframe\">\n",
       "  <thead>\n",
       "    <tr style=\"text-align: right;\">\n",
       "      <th></th>\n",
       "      <th>denomination_unite_legale</th>\n",
       "      <th>siren</th>\n",
       "      <th>categorie_juridique_niveau_1</th>\n",
       "      <th>libelle_categorie_juridique_niveau_1</th>\n",
       "      <th>categorie_juridique_niveau_2</th>\n",
       "      <th>libelle_categorie_juridique_niveau_2</th>\n",
       "      <th>categorie_juridique_niveau_3</th>\n",
       "      <th>libelle_categorie_juridique_niveau_3</th>\n",
       "    </tr>\n",
       "  </thead>\n",
       "  <tbody>\n",
       "    <tr>\n",
       "      <th>0</th>\n",
       "      <td>REGIE DES TRANSPORTS DE LA COTE D'OR</td>\n",
       "      <td>015850613</td>\n",
       "      <td>4</td>\n",
       "      <td>Personne morale de droit public soumise au dro...</td>\n",
       "      <td>41</td>\n",
       "      <td>Etablissement public ou régie à caractère indu...</td>\n",
       "      <td>4150</td>\n",
       "      <td>Régie d'une collectivité locale à caractère in...</td>\n",
       "    </tr>\n",
       "    <tr>\n",
       "      <th>1</th>\n",
       "      <td>GAZ DE FRANCE GDF SERVICE NATIONAL</td>\n",
       "      <td>046020152</td>\n",
       "      <td>4</td>\n",
       "      <td>Personne morale de droit public soumise au dro...</td>\n",
       "      <td>41</td>\n",
       "      <td>Etablissement public ou régie à caractère indu...</td>\n",
       "      <td>4100</td>\n",
       "      <td>NaN</td>\n",
       "    </tr>\n",
       "    <tr>\n",
       "      <th>2</th>\n",
       "      <td>B N C I AGENCE DE GRENOBLE</td>\n",
       "      <td>055500649</td>\n",
       "      <td>4</td>\n",
       "      <td>Personne morale de droit public soumise au dro...</td>\n",
       "      <td>41</td>\n",
       "      <td>Etablissement public ou régie à caractère indu...</td>\n",
       "      <td>4100</td>\n",
       "      <td>NaN</td>\n",
       "    </tr>\n",
       "    <tr>\n",
       "      <th>3</th>\n",
       "      <td>ISERE GESTION</td>\n",
       "      <td>056501554</td>\n",
       "      <td>4</td>\n",
       "      <td>Personne morale de droit public soumise au dro...</td>\n",
       "      <td>41</td>\n",
       "      <td>Etablissement public ou régie à caractère indu...</td>\n",
       "      <td>4140</td>\n",
       "      <td>Établissement public local à caractère industr...</td>\n",
       "    </tr>\n",
       "    <tr>\n",
       "      <th>4</th>\n",
       "      <td>CHEMIN DE FER DE LA MURE</td>\n",
       "      <td>057505760</td>\n",
       "      <td>4</td>\n",
       "      <td>Personne morale de droit public soumise au dro...</td>\n",
       "      <td>41</td>\n",
       "      <td>Etablissement public ou régie à caractère indu...</td>\n",
       "      <td>4150</td>\n",
       "      <td>Régie d'une collectivité locale à caractère in...</td>\n",
       "    </tr>\n",
       "    <tr>\n",
       "      <th>...</th>\n",
       "      <td>...</td>\n",
       "      <td>...</td>\n",
       "      <td>...</td>\n",
       "      <td>...</td>\n",
       "      <td>...</td>\n",
       "      <td>...</td>\n",
       "      <td>...</td>\n",
       "      <td>...</td>\n",
       "    </tr>\n",
       "    <tr>\n",
       "      <th>184839</th>\n",
       "      <td>CAMPING MUNICIPAL ONDRES</td>\n",
       "      <td>922074554</td>\n",
       "      <td>4</td>\n",
       "      <td>Personne morale de droit public soumise au dro...</td>\n",
       "      <td>41</td>\n",
       "      <td>Etablissement public ou régie à caractère indu...</td>\n",
       "      <td>4150</td>\n",
       "      <td>Régie d'une collectivité locale à caractère in...</td>\n",
       "    </tr>\n",
       "    <tr>\n",
       "      <th>184840</th>\n",
       "      <td>OFFICE DE TOURISME INTERCOMMUNAUTAIRE (OTI) SU...</td>\n",
       "      <td>922302914</td>\n",
       "      <td>4</td>\n",
       "      <td>Personne morale de droit public soumise au dro...</td>\n",
       "      <td>41</td>\n",
       "      <td>Etablissement public ou régie à caractère indu...</td>\n",
       "      <td>4140</td>\n",
       "      <td>Établissement public local à caractère industr...</td>\n",
       "    </tr>\n",
       "    <tr>\n",
       "      <th>184841</th>\n",
       "      <td>ALLIER BOURBONNAIS ATTRACTIVITE</td>\n",
       "      <td>922388673</td>\n",
       "      <td>4</td>\n",
       "      <td>Personne morale de droit public soumise au dro...</td>\n",
       "      <td>41</td>\n",
       "      <td>Etablissement public ou régie à caractère indu...</td>\n",
       "      <td>4140</td>\n",
       "      <td>Établissement public local à caractère industr...</td>\n",
       "    </tr>\n",
       "    <tr>\n",
       "      <th>184842</th>\n",
       "      <td>E R A P</td>\n",
       "      <td>969505460</td>\n",
       "      <td>4</td>\n",
       "      <td>Personne morale de droit public soumise au dro...</td>\n",
       "      <td>41</td>\n",
       "      <td>Etablissement public ou régie à caractère indu...</td>\n",
       "      <td>4100</td>\n",
       "      <td>NaN</td>\n",
       "    </tr>\n",
       "    <tr>\n",
       "      <th>184843</th>\n",
       "      <td>ETS PUBLIC AMENAGEM VILLE NOUVELLE EVRY</td>\n",
       "      <td>970201497</td>\n",
       "      <td>4</td>\n",
       "      <td>Personne morale de droit public soumise au dro...</td>\n",
       "      <td>41</td>\n",
       "      <td>Etablissement public ou régie à caractère indu...</td>\n",
       "      <td>4110</td>\n",
       "      <td>Établissement public national à caractère indu...</td>\n",
       "    </tr>\n",
       "  </tbody>\n",
       "</table>\n",
       "<p>184844 rows × 8 columns</p>\n",
       "</div>"
      ],
      "text/plain": [
       "                                denomination_unite_legale      siren  \\\n",
       "0                    REGIE DES TRANSPORTS DE LA COTE D'OR  015850613   \n",
       "1                      GAZ DE FRANCE GDF SERVICE NATIONAL  046020152   \n",
       "2                              B N C I AGENCE DE GRENOBLE  055500649   \n",
       "3                                           ISERE GESTION  056501554   \n",
       "4                                CHEMIN DE FER DE LA MURE  057505760   \n",
       "...                                                   ...        ...   \n",
       "184839                           CAMPING MUNICIPAL ONDRES  922074554   \n",
       "184840  OFFICE DE TOURISME INTERCOMMUNAUTAIRE (OTI) SU...  922302914   \n",
       "184841                    ALLIER BOURBONNAIS ATTRACTIVITE  922388673   \n",
       "184842                                            E R A P  969505460   \n",
       "184843            ETS PUBLIC AMENAGEM VILLE NOUVELLE EVRY  970201497   \n",
       "\n",
       "       categorie_juridique_niveau_1  \\\n",
       "0                                 4   \n",
       "1                                 4   \n",
       "2                                 4   \n",
       "3                                 4   \n",
       "4                                 4   \n",
       "...                             ...   \n",
       "184839                            4   \n",
       "184840                            4   \n",
       "184841                            4   \n",
       "184842                            4   \n",
       "184843                            4   \n",
       "\n",
       "                     libelle_categorie_juridique_niveau_1  \\\n",
       "0       Personne morale de droit public soumise au dro...   \n",
       "1       Personne morale de droit public soumise au dro...   \n",
       "2       Personne morale de droit public soumise au dro...   \n",
       "3       Personne morale de droit public soumise au dro...   \n",
       "4       Personne morale de droit public soumise au dro...   \n",
       "...                                                   ...   \n",
       "184839  Personne morale de droit public soumise au dro...   \n",
       "184840  Personne morale de droit public soumise au dro...   \n",
       "184841  Personne morale de droit public soumise au dro...   \n",
       "184842  Personne morale de droit public soumise au dro...   \n",
       "184843  Personne morale de droit public soumise au dro...   \n",
       "\n",
       "       categorie_juridique_niveau_2  \\\n",
       "0                                41   \n",
       "1                                41   \n",
       "2                                41   \n",
       "3                                41   \n",
       "4                                41   \n",
       "...                             ...   \n",
       "184839                           41   \n",
       "184840                           41   \n",
       "184841                           41   \n",
       "184842                           41   \n",
       "184843                           41   \n",
       "\n",
       "                     libelle_categorie_juridique_niveau_2  \\\n",
       "0       Etablissement public ou régie à caractère indu...   \n",
       "1       Etablissement public ou régie à caractère indu...   \n",
       "2       Etablissement public ou régie à caractère indu...   \n",
       "3       Etablissement public ou régie à caractère indu...   \n",
       "4       Etablissement public ou régie à caractère indu...   \n",
       "...                                                   ...   \n",
       "184839  Etablissement public ou régie à caractère indu...   \n",
       "184840  Etablissement public ou régie à caractère indu...   \n",
       "184841  Etablissement public ou régie à caractère indu...   \n",
       "184842  Etablissement public ou régie à caractère indu...   \n",
       "184843  Etablissement public ou régie à caractère indu...   \n",
       "\n",
       "       categorie_juridique_niveau_3  \\\n",
       "0                              4150   \n",
       "1                              4100   \n",
       "2                              4100   \n",
       "3                              4140   \n",
       "4                              4150   \n",
       "...                             ...   \n",
       "184839                         4150   \n",
       "184840                         4140   \n",
       "184841                         4140   \n",
       "184842                         4100   \n",
       "184843                         4110   \n",
       "\n",
       "                     libelle_categorie_juridique_niveau_3  \n",
       "0       Régie d'une collectivité locale à caractère in...  \n",
       "1                                                     NaN  \n",
       "2                                                     NaN  \n",
       "3       Établissement public local à caractère industr...  \n",
       "4       Régie d'une collectivité locale à caractère in...  \n",
       "...                                                   ...  \n",
       "184839  Régie d'une collectivité locale à caractère in...  \n",
       "184840  Établissement public local à caractère industr...  \n",
       "184841  Établissement public local à caractère industr...  \n",
       "184842                                                NaN  \n",
       "184843  Établissement public national à caractère indu...  \n",
       "\n",
       "[184844 rows x 8 columns]"
      ]
     },
     "execution_count": 74,
     "metadata": {},
     "output_type": "execute_result"
    }
   ],
   "source": [
    "df2"
   ]
  },
  {
   "cell_type": "code",
   "execution_count": 75,
   "id": "90fbd938",
   "metadata": {},
   "outputs": [],
   "source": [
    "df2.to_csv(\"unitelegale_servicepublic_categorie_juridique_20230105.csv\", index=False)"
   ]
  },
  {
   "cell_type": "code",
   "execution_count": null,
   "id": "462ab329",
   "metadata": {},
   "outputs": [],
   "source": []
  }
 ],
 "metadata": {
  "kernelspec": {
   "display_name": "Python 3 (ipykernel)",
   "language": "python",
   "name": "python3"
  },
  "language_info": {
   "codemirror_mode": {
    "name": "ipython",
    "version": 3
   },
   "file_extension": ".py",
   "mimetype": "text/x-python",
   "name": "python",
   "nbconvert_exporter": "python",
   "pygments_lexer": "ipython3",
   "version": "3.8.12"
  }
 },
 "nbformat": 4,
 "nbformat_minor": 5
}
